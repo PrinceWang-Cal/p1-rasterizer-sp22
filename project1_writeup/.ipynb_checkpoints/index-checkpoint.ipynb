{
 "cells": [
  {
   "cell_type": "markdown",
   "metadata": {},
   "source": [
    "## CS194-26: Image Manipulation and Computational Photography\n",
    "## Sping 2020\n",
    "## Project 3: Face Morphing\n",
    "## Prince Wang"
   ]
  },
  {
   "cell_type": "markdown",
   "metadata": {},
   "source": [
    "## Overview"
   ]
  },
  {
   "cell_type": "markdown",
   "metadata": {},
   "source": [
    "In this project I implemented the following tasks:\n",
    "- face morphing: morphing my face into another person's face\n",
    "- mean face of the population: computing the \"average\" face of a population\n",
    "- mean face transformation: Transforming my face into the shape of a population's average face, and the other way around"
   ]
  },
  {
   "cell_type": "markdown",
   "metadata": {},
   "source": [
    "## Part 1: Defining Correspondences"
   ]
  },
  {
   "cell_type": "markdown",
   "metadata": {},
   "source": [
    "For achieve a good result for face morphing, we need to segment our faces into pieces of triangular. This is so that we can compute the transformation of our faces to some other space piece by piece. That is, for all triangular meshes, we compute how each mesh transforms into the corresponding mash of another face, and then we piece the transformations together."
   ]
  },
  {
   "cell_type": "markdown",
   "metadata": {},
   "source": [
    "We start of by labeling the points on our face, capturing areas with important face features."
   ]
  },
  {
   "cell_type": "markdown",
   "metadata": {},
   "source": [
    "<table><tr>\n",
    "    \n",
    "<td> <img src=\"./web_demo/prince_points.png\" style=\"width: 250px;\"/>\n",
    "     <figcaption align=\"middle\" style=\"font-size: 24;\"> my face </figcaption></td>\n",
    "    \n",
    "<td> <img src=\"./web_demo/george_points.png\" style=\"width: 250px;\"/>\n",
    "    <figcaption align=\"middle\" style=\"font-size: 24;\"> face of George Small </figcaption>\n",
    "\n",
    "</tr></table>"
   ]
  },
  {
   "cell_type": "markdown",
   "metadata": {},
   "source": [
    "Then we sperate the images into smaller meshes by performing Delaunay triangulation:"
   ]
  },
  {
   "cell_type": "markdown",
   "metadata": {},
   "source": [
    "<table><tr>\n",
    "    \n",
    "<td> <img src=\"./web_demo/prince_tri.png\" style=\"width: 250px;\"/>\n",
    "     <figcaption align=\"middle\" style=\"font-size: 24;\"> </figcaption></td>\n",
    "    \n",
    "<td> <img src=\"./web_demo/george_tri.png\" style=\"width: 250px;\"/>\n",
    "    <figcaption align=\"middle\" style=\"font-size: 24;\"> </figcaption>\n",
    "\n",
    "</tr></table>"
   ]
  },
  {
   "cell_type": "markdown",
   "metadata": {},
   "source": [
    "## Part 2 & 3: Computing the \"Mid-way\" Face & The Morph Sequence"
   ]
  },
  {
   "cell_type": "markdown",
   "metadata": {},
   "source": [
    "Now we can perform face morphing between my face and George's face:"
   ]
  },
  {
   "cell_type": "markdown",
   "metadata": {},
   "source": [
    "<table><tr>\n",
    "    \n",
    "<td> <img src=\"./web_demo/midway_face.png\" style=\"width: 250px;\"/>\n",
    "     <figcaption align=\"middle\" style=\"font-size: 24;\"> Our midway face </figcaption></td>\n",
    "    \n",
    "<td> <img src=\"./web_demo/prince_george.gif\" style=\"width: 250px;\"/>\n",
    "    <figcaption align=\"middle\" style=\"font-size: 24;\"> morphing </figcaption>\n",
    "\n",
    "</tr></table>"
   ]
  },
  {
   "cell_type": "markdown",
   "metadata": {},
   "source": [
    "As we can see, the midway face is a product of both my face and George's face warping into an average face shape, with pixel values combined. It looks quite effective."
   ]
  },
  {
   "cell_type": "markdown",
   "metadata": {},
   "source": [
    "Here is another example of my face morphing into Lionel Messi's face:"
   ]
  },
  {
   "cell_type": "markdown",
   "metadata": {},
   "source": [
    "<table><tr>\n",
    "    \n",
    "<td> <img src=\"./web_demo/prince1.jpg\" style=\"width: 250px;\"/>\n",
    "     <figcaption align=\"middle\" style=\"font-size: 24;\"> Me </figcaption></td>\n",
    "    \n",
    "<td> <img src=\"./web_demo/messi1.jpg\" style=\"width: 250px;\"/>\n",
    "    <figcaption align=\"middle\" style=\"font-size: 24;\"> Lionel Messi </figcaption>\n",
    "\n",
    "</tr></table>"
   ]
  },
  {
   "attachments": {},
   "cell_type": "markdown",
   "metadata": {},
   "source": [
    "<table><tr>\n",
    "    \n",
    "<td> <img src=\"./web_demo/pm_midway.png\" style=\"width: 250px;\"/>\n",
    "     <figcaption align=\"middle\" style=\"font-size: 24;\"> Our midway face </figcaption></td>\n",
    "    \n",
    "<td> <img src=\"./web_demo/prince_messi4.gif\" style=\"width: 250px;\"/>\n",
    "    <figcaption align=\"middle\" style=\"font-size: 24;\"> morphing </figcaption>\n",
    "\n",
    "</tr></table>"
   ]
  },
  {
   "cell_type": "markdown",
   "metadata": {},
   "source": [
    "For this morphing I tried a picture of mine with a white background. Notice how similar background color tends to produce better results."
   ]
  },
  {
   "cell_type": "markdown",
   "metadata": {},
   "source": [
    "## Part 4: The Mean Face of a Population"
   ]
  },
  {
   "cell_type": "markdown",
   "metadata": {},
   "source": [
    "We are also interested in what the \"Midway\" face will look like for multiple people, say a population. Here I computed the mean face of two population from two data set:\n",
    "\n",
    "<a href=https://www2.imm.dtu.dk/~aam/datasets/datasets.html> the IMM Dataset</a>\n",
    "\n",
    "Photos of the Starting XI of FC(Football Club) Barcelona"
   ]
  },
  {
   "cell_type": "markdown",
   "metadata": {},
   "source": [
    "<table><tr>\n",
    "    \n",
    "<td> <img src=\"./web_demo/01m.jpg\" style=\"width: 250px;\"/>\n",
    "     <figcaption align=\"middle\" style=\"font-size: 24;\">  </figcaption></td>\n",
    "    \n",
    "<td> <img src=\"./web_demo/09m.jpg\" style=\"width: 250px;\"/>\n",
    "    <figcaption align=\"middle\" style=\"font-size: 24;\"> </figcaption>\n",
    "    </td>\n",
    "    <td> <img src=\"./web_demo/10m.jpg\" style=\"width: 250px;\"/>\n",
    "    <figcaption align=\"middle\" style=\"font-size: 24;\"> </figcaption>\n",
    "    </td>\n",
    "    \n",
    "\n",
    "</tr></table>"
   ]
  },
  {
   "cell_type": "markdown",
   "metadata": {},
   "source": [
    "<table><tr>\n",
    "    \n",
    "<td> <img src=\"./web_demo/13m.jpg\" style=\"width: 250px;\"/>\n",
    "     <figcaption align=\"middle\" style=\"font-size: 24;\"> </figcaption></td>\n",
    "    \n",
    "<td> <img src=\"./web_demo/19m.jpg\" style=\"width: 250px;\"/>\n",
    "    <figcaption align=\"middle\" style=\"font-size: 24;\"> </figcaption>\n",
    "    </td>\n",
    "    <td> <img src=\"./web_demo/31m.jpg\" style=\"width: 250px;\"/>\n",
    "    <figcaption align=\"middle\" style=\"font-size: 24;\"> </figcaption>\n",
    "    </td>\n",
    "    \n",
    "\n",
    "</tr></table>"
   ]
  },
  {
   "cell_type": "markdown",
   "metadata": {},
   "source": [
    "<center><img src=\"./web_demo/IMM_mean.jpg\" style=\"width: 350px;\"/>\n",
    "     <figcaption align=\"middle\" style=\"font-size: 24;\"> The \"Average Face for this dataset </figcaption> </center>"
   ]
  },
  {
   "cell_type": "markdown",
   "metadata": {},
   "source": [
    "<table><tr>\n",
    "    \n",
    "<td> <img src=\"./web_demo/0.jpg\" style=\"width: 250px;\"/>\n",
    "     <figcaption align=\"middle\" style=\"font-size: 24;\"> Luis Suarez </figcaption></td>\n",
    "    \n",
    "<td> <img src=\"./web_demo/1.jpg\" style=\"width: 250px;\"/>\n",
    "    <figcaption align=\"middle\" style=\"font-size: 24;\"> Nelson Semedo </figcaption>\n",
    "    </td>\n",
    "    <td> <img src=\"./web_demo/2.jpg\" style=\"width: 250px;\"/>\n",
    "    <figcaption align=\"middle\" style=\"font-size: 24;\"> Lionel Messi </figcaption>\n",
    "    </td>\n",
    "    \n",
    "\n",
    "</tr></table>"
   ]
  },
  {
   "attachments": {},
   "cell_type": "markdown",
   "metadata": {},
   "source": [
    "<table><tr>\n",
    "    \n",
    "<td> <img src=\"./web_demo/3.jpg\" style=\"width: 250px;\"/>\n",
    "     <figcaption align=\"middle\" style=\"font-size: 24;\"> Arthur </figcaption></td>\n",
    "    \n",
    "<td> <img src=\"./web_demo/4.jpg\" style=\"width: 250px;\"/>\n",
    "    <figcaption align=\"middle\" style=\"font-size: 24;\"> Sergi Roberto </figcaption>\n",
    "    </td>\n",
    "    <td> <img src=\"./web_demo/5.jpg\" style=\"width: 250px;\"/>\n",
    "    <figcaption align=\"middle\" style=\"font-size: 24;\"> Gerard Pique </figcaption>\n",
    "    </td>\n",
    "    \n",
    "\n",
    "</tr></table>"
   ]
  },
  {
   "cell_type": "markdown",
   "metadata": {},
   "source": [
    "<table><tr>\n",
    "    \n",
    "<td> <img src=\"./web_demo/6.jpg\" style=\"width: 250px;\"/>\n",
    "     <figcaption align=\"middle\" style=\"font-size: 24;\"> Sergio Busquets </figcaption></td>\n",
    "    \n",
    "<td> <img src=\"./web_demo/7.jpg\" style=\"width: 250px;\"/>\n",
    "    <figcaption align=\"middle\" style=\"font-size: 24;\"> Marc-Andre ter Stegen </figcaption>\n",
    "    </td>\n",
    "    <td> <img src=\"./web_demo/8.jpg\" style=\"width: 250px;\"/>\n",
    "    <figcaption align=\"middle\" style=\"font-size: 24;\"> Antoine Griezmann </figcaption>\n",
    "    </td>\n",
    "    \n",
    "\n",
    "</tr></table>"
   ]
  },
  {
   "cell_type": "markdown",
   "metadata": {},
   "source": [
    "<table><tr>\n",
    "    \n",
    "<td> <img src=\"./web_demo/9.jpg\" style=\"width: 200px;\"/>\n",
    "     <figcaption align=\"middle\" style=\"font-size: 24;\"> Jordi Alba </figcaption></td>\n",
    "    \n",
    "<td> <img src=\"./web_demo/10.jpg\" style=\"width: 200px;\"/>\n",
    "    <figcaption align=\"middle\" style=\"font-size: 24;\"> Frankie De Jong </figcaption>\n",
    "    </td>\n",
    "    \n",
    "\n",
    "</tr></table>"
   ]
  },
  {
   "cell_type": "markdown",
   "metadata": {},
   "source": [
    "<center><img src=\"./web_demo/fcb_mean.jpg\" style=\"width: 350px;\"/>\n",
    "     <figcaption align=\"middle\" style=\"font-size: 24;\"> The \"Average\" Face of FC Barcelona </figcaption> </center>"
   ]
  },
  {
   "cell_type": "markdown",
   "metadata": {},
   "source": [
    "I played around somemore with face morphing here."
   ]
  },
  {
   "cell_type": "markdown",
   "metadata": {},
   "source": [
    "### Shape of my face and Barcelona's average"
   ]
  },
  {
   "cell_type": "markdown",
   "metadata": {},
   "source": [
    "<table><tr>\n",
    "    \n",
    "<td> <img src=\"./web_demo/prince_tri.png\" style=\"width: 200px;\"/>\n",
    "     <figcaption align=\"middle\" style=\"font-size: 24;\"> My Face </figcaption></td>\n",
    "    \n",
    "<td> <img src=\"./web_demo/mean_face_tri.png\" style=\"width: 200px;\"/>\n",
    "    <figcaption align=\"middle\" style=\"font-size: 24;\"> Barcelona Average </figcaption>\n",
    "    </td>\n",
    "    \n",
    "\n",
    "</tr></table>"
   ]
  },
  {
   "cell_type": "markdown",
   "metadata": {},
   "source": [
    "### Morph my face into the shape of Barcelona average face"
   ]
  },
  {
   "cell_type": "markdown",
   "metadata": {},
   "source": [
    "<table><tr>\n",
    "    \n",
    "<td> <img src=\"./web_demo/my_face_to_mean.jpg\" style=\"width: 200px;\"/>\n",
    "     <figcaption align=\"middle\" style=\"font-size: 24;\"> Morphed Face </figcaption></td>\n",
    "    \n",
    "<td> <img src=\"./web_demo/my_morph_tri.png\" style=\"width: 200px;\"/>\n",
    "    <figcaption align=\"middle\" style=\"font-size: 24;\"> Barcelona Average Shape </figcaption>\n",
    "    </td>\n",
    "    \n",
    "\n",
    "</tr></table>"
   ]
  },
  {
   "cell_type": "markdown",
   "metadata": {},
   "source": [
    "### Morphing Barcelona's average face into the shape of my face"
   ]
  },
  {
   "cell_type": "markdown",
   "metadata": {},
   "source": [
    "<table><tr>\n",
    "    \n",
    "<td> <img src=\"./web_demo/mean_face_to_mine.jpg\" style=\"width: 200px;\"/>\n",
    "     <figcaption align=\"middle\" style=\"font-size: 24;\"> Morphed Face </figcaption></td>\n",
    "    \n",
    "    \n",
    "\n",
    "</tr></table>"
   ]
  },
  {
   "cell_type": "markdown",
   "metadata": {},
   "source": [
    "## Part 5: Caricature"
   ]
  },
  {
   "cell_type": "markdown",
   "metadata": {},
   "source": [
    "<table><tr>\n",
    "    \n",
    "<td> <img src=\"./web_demo/caricature.jpg\" style=\"width: 200px;\"/>\n",
    "     <figcaption align=\"middle\" style=\"font-size: 24;\"> Morphed Face </figcaption></td>\n",
    "    \n",
    "    \n",
    "\n",
    "</tr></table>"
   ]
  },
  {
   "cell_type": "markdown",
   "metadata": {},
   "source": [
    "I used (1.4 * my_face + 0.6 * barcelona_mean_face) for this extrapolation"
   ]
  },
  {
   "cell_type": "markdown",
   "metadata": {},
   "source": [
    "## Bells and Whistles: A FC Barcelona morphing video with music"
   ]
  },
  {
   "cell_type": "markdown",
   "metadata": {},
   "source": [
    "<iframe width=\"560\" height=\"315\" src=\"https://www.youtube.com/embed/T9SEgEM-FvY\" frameborder=\"0\" allow=\"accelerometer; autoplay; encrypted-media; gyroscope; picture-in-picture\" allowfullscreen></iframe>"
   ]
  },
  {
   "cell_type": "markdown",
   "metadata": {},
   "source": []
  }
 ],
 "metadata": {
  "kernelspec": {
   "display_name": "Python 3",
   "language": "python",
   "name": "python3"
  },
  "language_info": {
   "codemirror_mode": {
    "name": "ipython",
    "version": 3
   },
   "file_extension": ".py",
   "mimetype": "text/x-python",
   "name": "python",
   "nbconvert_exporter": "python",
   "pygments_lexer": "ipython3",
   "version": "3.6.6"
  }
 },
 "nbformat": 4,
 "nbformat_minor": 2
}
